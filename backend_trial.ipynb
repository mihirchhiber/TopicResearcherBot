{
 "cells": [
  {
   "cell_type": "code",
   "execution_count": 1,
   "id": "d1c5e7e2",
   "metadata": {},
   "outputs": [
    {
     "name": "stdout",
     "output_type": "stream",
     "text": [
      "Found 40 articles in the last 7 days\n"
     ]
    }
   ],
   "source": [
    "from bs4 import BeautifulSoup\n",
    "from dotenv import load_dotenv\n",
    "import json\n",
    "import os\n",
    "import requests\n",
    "    \n",
    "load_dotenv()\n",
    "\n",
    "def get_recent_articles(sites, topics, api_key, cse_id):\n",
    "    \n",
    "    articles = []\n",
    "    \n",
    "    for site in sites:\n",
    "        for topic in topics:\n",
    "            # Build Google Custom Search query\n",
    "            url = f\"https://www.googleapis.com/customsearch/v1\"\n",
    "            params = {\n",
    "                'q': f'site:{site} {topic}',\n",
    "                'key': api_key,\n",
    "                'cx': cse_id,\n",
    "                'num': 10,  # Max results per request\n",
    "                'siteSearch': site,\n",
    "                'dateRestrict': 'w2',\n",
    "                'lr': 'lang_en'\n",
    "            }\n",
    "            \n",
    "            try:\n",
    "                response = requests.get(url, params=params)\n",
    "                results = response.json()\n",
    "                \n",
    "                for item in results.get('items', []):\n",
    "                    article = {\n",
    "                        'title': item.get('title'),\n",
    "                        'url': item.get('link'),\n",
    "                        'snippet': item.get('snippet'),\n",
    "                        'source': site,\n",
    "                        'content': ''\n",
    "                    }\n",
    "                    \n",
    "                    # Scrape full content\n",
    "                    try:\n",
    "                        page = requests.get(article['url'], timeout=10)\n",
    "                        soup = BeautifulSoup(page.content, 'html.parser')\n",
    "                        \n",
    "                        # Generic content extraction (customize per site)\n",
    "                        main_content = soup.find('article') or soup.find('main') or soup.find('div', class_='content')\n",
    "                        if main_content:\n",
    "                            # Remove unnecessary elements\n",
    "                            for elem in main_content(['script', 'style', 'nav', 'footer']):\n",
    "                                elem.decompose()\n",
    "                            article['content'] = ' '.join(main_content.stripped_strings)\n",
    "                        else:\n",
    "                            article['content'] = 'Content not found'\n",
    "                            \n",
    "                    except Exception as e:\n",
    "                        article['content'] = f'Content extraction failed: {str(e)}'\n",
    "                    \n",
    "                    articles.append(article)\n",
    "                    \n",
    "            except Exception as e:\n",
    "                print(f\"Error searching {site} for {topic}: {str(e)}\")\n",
    "    \n",
    "    return articles\n",
    "\n",
    "# Configuration\n",
    "parent_sites = ['cnn.com', 'bbc.com']\n",
    "topics = ['Donald Trump', 'Bitcoin']\n",
    "google_api_key = os.environ.get(\"GOOGLE_API_KEY\")\n",
    "google_cse_id = os.environ.get(\"GOOGLE_CSE_ID\")\n",
    "\n",
    "# Get articles\n",
    "recent_articles = get_recent_articles(parent_sites, topics, google_api_key, google_cse_id)\n",
    "\n",
    "# Save results\n",
    "with open('recent_articles.json', 'w') as f:\n",
    "    json.dump(recent_articles, f, indent=2)\n",
    "\n",
    "print(f\"Found {len(recent_articles)} articles in the last 7 days\")\n"
   ]
  },
  {
   "cell_type": "code",
   "execution_count": null,
   "id": "5cc5deed",
   "metadata": {},
   "outputs": [],
   "source": []
  }
 ],
 "metadata": {
  "kernelspec": {
   "display_name": ".venv",
   "language": "python",
   "name": "python3"
  },
  "language_info": {
   "codemirror_mode": {
    "name": "ipython",
    "version": 3
   },
   "file_extension": ".py",
   "mimetype": "text/x-python",
   "name": "python",
   "nbconvert_exporter": "python",
   "pygments_lexer": "ipython3",
   "version": "3.13.2"
  }
 },
 "nbformat": 4,
 "nbformat_minor": 5
}
